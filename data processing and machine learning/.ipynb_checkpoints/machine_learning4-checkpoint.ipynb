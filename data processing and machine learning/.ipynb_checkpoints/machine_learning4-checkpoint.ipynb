{
 "cells": [
  {
   "cell_type": "markdown",
   "metadata": {},
   "source": [
    "# Dummy variable machine learning and filtering down measurement types to top 6 using all neuron types"
   ]
  },
  {
   "cell_type": "code",
   "execution_count": 1,
   "metadata": {},
   "outputs": [],
   "source": [
    "import pandas as pd\n",
    "import numpy as np"
   ]
  },
  {
   "cell_type": "code",
   "execution_count": 2,
   "metadata": {
    "scrolled": true
   },
   "outputs": [
    {
     "data": {
      "text/html": [
       "<div>\n",
       "<style scoped>\n",
       "    .dataframe tbody tr th:only-of-type {\n",
       "        vertical-align: middle;\n",
       "    }\n",
       "\n",
       "    .dataframe tbody tr th {\n",
       "        vertical-align: top;\n",
       "    }\n",
       "\n",
       "    .dataframe thead th {\n",
       "        text-align: right;\n",
       "    }\n",
       "</style>\n",
       "<table border=\"1\" class=\"dataframe\">\n",
       "  <thead>\n",
       "    <tr style=\"text-align: right;\">\n",
       "      <th></th>\n",
       "      <th>Cell Type</th>\n",
       "      <th>Value</th>\n",
       "      <th>Measurement</th>\n",
       "    </tr>\n",
       "  </thead>\n",
       "  <tbody>\n",
       "    <tr>\n",
       "      <th>0</th>\n",
       "      <td>Dorsal root ganglion cell</td>\n",
       "      <td>-54.30</td>\n",
       "      <td>resting membrane potential</td>\n",
       "    </tr>\n",
       "    <tr>\n",
       "      <th>1</th>\n",
       "      <td>Dorsal root ganglion cell</td>\n",
       "      <td>-27.40</td>\n",
       "      <td>spike threshold</td>\n",
       "    </tr>\n",
       "    <tr>\n",
       "      <th>2</th>\n",
       "      <td>Dorsal root ganglion cell</td>\n",
       "      <td>101.30</td>\n",
       "      <td>spike amplitude</td>\n",
       "    </tr>\n",
       "    <tr>\n",
       "      <th>3</th>\n",
       "      <td>Dorsal root ganglion cell</td>\n",
       "      <td>2.00</td>\n",
       "      <td>spike width</td>\n",
       "    </tr>\n",
       "    <tr>\n",
       "      <th>4</th>\n",
       "      <td>Dorsal root ganglion cell</td>\n",
       "      <td>0.39</td>\n",
       "      <td>rheobase</td>\n",
       "    </tr>\n",
       "  </tbody>\n",
       "</table>\n",
       "</div>"
      ],
      "text/plain": [
       "                   Cell Type   Value                 Measurement\n",
       "0  Dorsal root ganglion cell  -54.30  resting membrane potential\n",
       "1  Dorsal root ganglion cell  -27.40             spike threshold\n",
       "2  Dorsal root ganglion cell  101.30             spike amplitude\n",
       "3  Dorsal root ganglion cell    2.00                 spike width\n",
       "4  Dorsal root ganglion cell    0.39                    rheobase"
      ]
     },
     "execution_count": 2,
     "metadata": {},
     "output_type": "execute_result"
    }
   ],
   "source": [
    "neuro = pd.read_csv(\"all_neuron_data.csv\")\n",
    "neuro.head()"
   ]
  },
  {
   "cell_type": "code",
   "execution_count": 3,
   "metadata": {
    "scrolled": true
   },
   "outputs": [
    {
     "data": {
      "text/html": [
       "<div>\n",
       "<style scoped>\n",
       "    .dataframe tbody tr th:only-of-type {\n",
       "        vertical-align: middle;\n",
       "    }\n",
       "\n",
       "    .dataframe tbody tr th {\n",
       "        vertical-align: top;\n",
       "    }\n",
       "\n",
       "    .dataframe thead th {\n",
       "        text-align: right;\n",
       "    }\n",
       "</style>\n",
       "<table border=\"1\" class=\"dataframe\">\n",
       "  <thead>\n",
       "    <tr style=\"text-align: right;\">\n",
       "      <th></th>\n",
       "      <th>Cell Type</th>\n",
       "      <th>Value</th>\n",
       "      <th>Measurement</th>\n",
       "    </tr>\n",
       "  </thead>\n",
       "  <tbody>\n",
       "    <tr>\n",
       "      <th>0</th>\n",
       "      <td>Dorsal root ganglion cell</td>\n",
       "      <td>-54.3</td>\n",
       "      <td>resting membrane potential</td>\n",
       "    </tr>\n",
       "    <tr>\n",
       "      <th>1</th>\n",
       "      <td>Dorsal root ganglion cell</td>\n",
       "      <td>-27.4</td>\n",
       "      <td>spike threshold</td>\n",
       "    </tr>\n",
       "    <tr>\n",
       "      <th>2</th>\n",
       "      <td>Dorsal root ganglion cell</td>\n",
       "      <td>101.3</td>\n",
       "      <td>spike amplitude</td>\n",
       "    </tr>\n",
       "    <tr>\n",
       "      <th>5</th>\n",
       "      <td>Dorsal root ganglion cell</td>\n",
       "      <td>192.0</td>\n",
       "      <td>input resistance</td>\n",
       "    </tr>\n",
       "    <tr>\n",
       "      <th>7</th>\n",
       "      <td>Spinal cord intermediate horn motor neuron sym...</td>\n",
       "      <td>-59.8</td>\n",
       "      <td>resting membrane potential</td>\n",
       "    </tr>\n",
       "  </tbody>\n",
       "</table>\n",
       "</div>"
      ],
      "text/plain": [
       "                                           Cell Type  Value  \\\n",
       "0                          Dorsal root ganglion cell  -54.3   \n",
       "1                          Dorsal root ganglion cell  -27.4   \n",
       "2                          Dorsal root ganglion cell  101.3   \n",
       "5                          Dorsal root ganglion cell  192.0   \n",
       "7  Spinal cord intermediate horn motor neuron sym...  -59.8   \n",
       "\n",
       "                  Measurement  \n",
       "0  resting membrane potential  \n",
       "1             spike threshold  \n",
       "2             spike amplitude  \n",
       "5            input resistance  \n",
       "7  resting membrane potential  "
      ]
     },
     "execution_count": 3,
     "metadata": {},
     "output_type": "execute_result"
    }
   ],
   "source": [
    "# neuro = neuro[[\"input resistance\", \"membrane time constant\", \"resting membrane potential\", \"spike amplitude\", \\\n",
    "#               \"spike half-width\", \"spike threshold\"]]\n",
    "# neuro\n",
    "neuro_filtered = neuro.loc[(neuro[\"Measurement\"] == \"input resistance\") |\n",
    "                          (neuro[\"Measurement\"] == \"resting membrane potential\") |\n",
    "                          (neuro[\"Measurement\"] == \"spike threshold\") |\n",
    "                          (neuro[\"Measurement\"] == \"spike half-width\") |\n",
    "                          (neuro[\"Measurement\"] == \"spike amplitude\") |\n",
    "                          (neuro[\"Measurement\"] == \"membrane time constant\")]\n",
    "\n",
    "neuro_filtered.head()\n"
   ]
  },
  {
   "cell_type": "code",
   "execution_count": 4,
   "metadata": {},
   "outputs": [],
   "source": [
    "# Saving minimum and maximum values for each measurement into variables\n",
    "\n",
    "# Min/ max input resistance values\n",
    "min_ir = neuro[neuro[\"Measurement\"] == \"input resistance\"][\"Value\"].min()\n",
    "max_ir = neuro[neuro[\"Measurement\"] == \"input resistance\"][\"Value\"].max()\n",
    "# Min/ max resting membrane potential values\n",
    "min_rmp = neuro[neuro[\"Measurement\"] == \"resting membrane potential\"][\"Value\"].min()\n",
    "max_rmp = neuro[neuro[\"Measurement\"] == \"resting membrane potential\"][\"Value\"].max()\n",
    "# Min/max spike threshold values\n",
    "min_st = neuro[neuro[\"Measurement\"] == \"spike threshold\"][\"Value\"].min()\n",
    "max_st = neuro[neuro[\"Measurement\"] == \"spike threshold\"][\"Value\"].max()\n",
    "# Min/max spike half-width values\n",
    "min_shw = neuro[neuro[\"Measurement\"] == \"spike half-width\"][\"Value\"].min()\n",
    "max_shw = neuro[neuro[\"Measurement\"] == \"spike half-width\"][\"Value\"].max()\n",
    "# Min/max spike amplitude values\n",
    "min_sa = neuro[neuro[\"Measurement\"] == \"spike amplitude\"][\"Value\"].min()\n",
    "max_sa = neuro[neuro[\"Measurement\"] == \"spike amplitude\"][\"Value\"].max()\n",
    "# Min/max membrane time constant values\n",
    "min_mtc = neuro[neuro[\"Measurement\"] == \"membrane time constant\"][\"Value\"].min()\n",
    "max_mtc = neuro[neuro[\"Measurement\"] == \"membrane time constant\"][\"Value\"].max()"
   ]
  },
  {
   "cell_type": "code",
   "execution_count": 5,
   "metadata": {},
   "outputs": [
    {
     "data": {
      "text/html": [
       "<div>\n",
       "<style scoped>\n",
       "    .dataframe tbody tr th:only-of-type {\n",
       "        vertical-align: middle;\n",
       "    }\n",
       "\n",
       "    .dataframe tbody tr th {\n",
       "        vertical-align: top;\n",
       "    }\n",
       "\n",
       "    .dataframe thead th {\n",
       "        text-align: right;\n",
       "    }\n",
       "</style>\n",
       "<table border=\"1\" class=\"dataframe\">\n",
       "  <thead>\n",
       "    <tr style=\"text-align: right;\">\n",
       "      <th></th>\n",
       "      <th>Cell Type</th>\n",
       "      <th>Value</th>\n",
       "      <th>Measurement_input resistance</th>\n",
       "      <th>Measurement_membrane time constant</th>\n",
       "      <th>Measurement_resting membrane potential</th>\n",
       "      <th>Measurement_spike amplitude</th>\n",
       "      <th>Measurement_spike half-width</th>\n",
       "      <th>Measurement_spike threshold</th>\n",
       "    </tr>\n",
       "  </thead>\n",
       "  <tbody>\n",
       "    <tr>\n",
       "      <th>0</th>\n",
       "      <td>Dorsal root ganglion cell</td>\n",
       "      <td>-54.3</td>\n",
       "      <td>0</td>\n",
       "      <td>0</td>\n",
       "      <td>1</td>\n",
       "      <td>0</td>\n",
       "      <td>0</td>\n",
       "      <td>0</td>\n",
       "    </tr>\n",
       "    <tr>\n",
       "      <th>1</th>\n",
       "      <td>Dorsal root ganglion cell</td>\n",
       "      <td>-27.4</td>\n",
       "      <td>0</td>\n",
       "      <td>0</td>\n",
       "      <td>0</td>\n",
       "      <td>0</td>\n",
       "      <td>0</td>\n",
       "      <td>1</td>\n",
       "    </tr>\n",
       "    <tr>\n",
       "      <th>2</th>\n",
       "      <td>Dorsal root ganglion cell</td>\n",
       "      <td>101.3</td>\n",
       "      <td>0</td>\n",
       "      <td>0</td>\n",
       "      <td>0</td>\n",
       "      <td>1</td>\n",
       "      <td>0</td>\n",
       "      <td>0</td>\n",
       "    </tr>\n",
       "    <tr>\n",
       "      <th>5</th>\n",
       "      <td>Dorsal root ganglion cell</td>\n",
       "      <td>192.0</td>\n",
       "      <td>1</td>\n",
       "      <td>0</td>\n",
       "      <td>0</td>\n",
       "      <td>0</td>\n",
       "      <td>0</td>\n",
       "      <td>0</td>\n",
       "    </tr>\n",
       "    <tr>\n",
       "      <th>7</th>\n",
       "      <td>Spinal cord intermediate horn motor neuron sym...</td>\n",
       "      <td>-59.8</td>\n",
       "      <td>0</td>\n",
       "      <td>0</td>\n",
       "      <td>1</td>\n",
       "      <td>0</td>\n",
       "      <td>0</td>\n",
       "      <td>0</td>\n",
       "    </tr>\n",
       "  </tbody>\n",
       "</table>\n",
       "</div>"
      ],
      "text/plain": [
       "                                           Cell Type  Value  \\\n",
       "0                          Dorsal root ganglion cell  -54.3   \n",
       "1                          Dorsal root ganglion cell  -27.4   \n",
       "2                          Dorsal root ganglion cell  101.3   \n",
       "5                          Dorsal root ganglion cell  192.0   \n",
       "7  Spinal cord intermediate horn motor neuron sym...  -59.8   \n",
       "\n",
       "   Measurement_input resistance  Measurement_membrane time constant  \\\n",
       "0                             0                                   0   \n",
       "1                             0                                   0   \n",
       "2                             0                                   0   \n",
       "5                             1                                   0   \n",
       "7                             0                                   0   \n",
       "\n",
       "   Measurement_resting membrane potential  Measurement_spike amplitude  \\\n",
       "0                                       1                            0   \n",
       "1                                       0                            0   \n",
       "2                                       0                            1   \n",
       "5                                       0                            0   \n",
       "7                                       1                            0   \n",
       "\n",
       "   Measurement_spike half-width  Measurement_spike threshold  \n",
       "0                             0                            0  \n",
       "1                             0                            1  \n",
       "2                             0                            0  \n",
       "5                             0                            0  \n",
       "7                             0                            0  "
      ]
     },
     "execution_count": 5,
     "metadata": {},
     "output_type": "execute_result"
    }
   ],
   "source": [
    "categorized_df = pd.get_dummies(neuro_filtered, columns=[\"Measurement\"])\n",
    "categorized_df.head()"
   ]
  },
  {
   "cell_type": "code",
   "execution_count": 6,
   "metadata": {},
   "outputs": [],
   "source": [
    "counts = categorized_df['Cell Type'].value_counts()\n",
    "greater_than_five = categorized_df[categorized_df['Cell Type'].isin(counts[counts >= 5].index)]\n",
    "greater_than_five[\"Cell Type\"].value_counts()\n",
    "greater_than_five[greater_than_five['Cell Type'] != \"Other\"][\"Cell Type\"].value_counts()\n",
    "\n",
    "# Remove \"Other\" cells from data\n",
    "greater_than_five = greater_than_five[greater_than_five['Cell Type'] != \"Other\"]"
   ]
  },
  {
   "cell_type": "code",
   "execution_count": 7,
   "metadata": {
    "scrolled": true
   },
   "outputs": [
    {
     "data": {
      "text/html": [
       "<div>\n",
       "<style scoped>\n",
       "    .dataframe tbody tr th:only-of-type {\n",
       "        vertical-align: middle;\n",
       "    }\n",
       "\n",
       "    .dataframe tbody tr th {\n",
       "        vertical-align: top;\n",
       "    }\n",
       "\n",
       "    .dataframe thead th {\n",
       "        text-align: right;\n",
       "    }\n",
       "</style>\n",
       "<table border=\"1\" class=\"dataframe\">\n",
       "  <thead>\n",
       "    <tr style=\"text-align: right;\">\n",
       "      <th></th>\n",
       "      <th>Cell Type</th>\n",
       "      <th>Value</th>\n",
       "      <th>Measurement_input resistance</th>\n",
       "      <th>Measurement_membrane time constant</th>\n",
       "      <th>Measurement_resting membrane potential</th>\n",
       "      <th>Measurement_spike amplitude</th>\n",
       "      <th>Measurement_spike half-width</th>\n",
       "      <th>Measurement_spike threshold</th>\n",
       "      <th>Structure</th>\n",
       "    </tr>\n",
       "  </thead>\n",
       "  <tbody>\n",
       "    <tr>\n",
       "      <th>0</th>\n",
       "      <td>Dorsal root ganglion cell</td>\n",
       "      <td>-54.30</td>\n",
       "      <td>0</td>\n",
       "      <td>0</td>\n",
       "      <td>1</td>\n",
       "      <td>0</td>\n",
       "      <td>0</td>\n",
       "      <td>0</td>\n",
       "      <td>other</td>\n",
       "    </tr>\n",
       "    <tr>\n",
       "      <th>1</th>\n",
       "      <td>Dorsal root ganglion cell</td>\n",
       "      <td>-27.40</td>\n",
       "      <td>0</td>\n",
       "      <td>0</td>\n",
       "      <td>0</td>\n",
       "      <td>0</td>\n",
       "      <td>0</td>\n",
       "      <td>1</td>\n",
       "      <td>other</td>\n",
       "    </tr>\n",
       "    <tr>\n",
       "      <th>2</th>\n",
       "      <td>Dorsal root ganglion cell</td>\n",
       "      <td>101.30</td>\n",
       "      <td>0</td>\n",
       "      <td>0</td>\n",
       "      <td>0</td>\n",
       "      <td>1</td>\n",
       "      <td>0</td>\n",
       "      <td>0</td>\n",
       "      <td>other</td>\n",
       "    </tr>\n",
       "    <tr>\n",
       "      <th>5</th>\n",
       "      <td>Dorsal root ganglion cell</td>\n",
       "      <td>192.00</td>\n",
       "      <td>1</td>\n",
       "      <td>0</td>\n",
       "      <td>0</td>\n",
       "      <td>0</td>\n",
       "      <td>0</td>\n",
       "      <td>0</td>\n",
       "      <td>other</td>\n",
       "    </tr>\n",
       "    <tr>\n",
       "      <th>7</th>\n",
       "      <td>Spinal cord intermediate horn motor neuron sym...</td>\n",
       "      <td>-59.80</td>\n",
       "      <td>0</td>\n",
       "      <td>0</td>\n",
       "      <td>1</td>\n",
       "      <td>0</td>\n",
       "      <td>0</td>\n",
       "      <td>0</td>\n",
       "      <td>other</td>\n",
       "    </tr>\n",
       "    <tr>\n",
       "      <th>8</th>\n",
       "      <td>Spinal cord intermediate horn motor neuron sym...</td>\n",
       "      <td>1.14</td>\n",
       "      <td>1</td>\n",
       "      <td>0</td>\n",
       "      <td>0</td>\n",
       "      <td>0</td>\n",
       "      <td>0</td>\n",
       "      <td>0</td>\n",
       "      <td>other</td>\n",
       "    </tr>\n",
       "    <tr>\n",
       "      <th>9</th>\n",
       "      <td>Spinal cord intermediate horn motor neuron sym...</td>\n",
       "      <td>92.40</td>\n",
       "      <td>0</td>\n",
       "      <td>1</td>\n",
       "      <td>0</td>\n",
       "      <td>0</td>\n",
       "      <td>0</td>\n",
       "      <td>0</td>\n",
       "      <td>other</td>\n",
       "    </tr>\n",
       "    <tr>\n",
       "      <th>11</th>\n",
       "      <td>Spinal cord intermediate horn motor neuron sym...</td>\n",
       "      <td>57.10</td>\n",
       "      <td>0</td>\n",
       "      <td>0</td>\n",
       "      <td>0</td>\n",
       "      <td>1</td>\n",
       "      <td>0</td>\n",
       "      <td>0</td>\n",
       "      <td>other</td>\n",
       "    </tr>\n",
       "    <tr>\n",
       "      <th>13</th>\n",
       "      <td>Spinal cord intermediate horn motor neuron sym...</td>\n",
       "      <td>-45.30</td>\n",
       "      <td>0</td>\n",
       "      <td>0</td>\n",
       "      <td>0</td>\n",
       "      <td>0</td>\n",
       "      <td>0</td>\n",
       "      <td>1</td>\n",
       "      <td>other</td>\n",
       "    </tr>\n",
       "    <tr>\n",
       "      <th>18</th>\n",
       "      <td>Hippocampus CA1 pyramidal cell</td>\n",
       "      <td>-51.50</td>\n",
       "      <td>0</td>\n",
       "      <td>0</td>\n",
       "      <td>0</td>\n",
       "      <td>0</td>\n",
       "      <td>0</td>\n",
       "      <td>1</td>\n",
       "      <td>Hippocampus</td>\n",
       "    </tr>\n",
       "  </tbody>\n",
       "</table>\n",
       "</div>"
      ],
      "text/plain": [
       "                                            Cell Type   Value  \\\n",
       "0                           Dorsal root ganglion cell  -54.30   \n",
       "1                           Dorsal root ganglion cell  -27.40   \n",
       "2                           Dorsal root ganglion cell  101.30   \n",
       "5                           Dorsal root ganglion cell  192.00   \n",
       "7   Spinal cord intermediate horn motor neuron sym...  -59.80   \n",
       "8   Spinal cord intermediate horn motor neuron sym...    1.14   \n",
       "9   Spinal cord intermediate horn motor neuron sym...   92.40   \n",
       "11  Spinal cord intermediate horn motor neuron sym...   57.10   \n",
       "13  Spinal cord intermediate horn motor neuron sym...  -45.30   \n",
       "18                     Hippocampus CA1 pyramidal cell  -51.50   \n",
       "\n",
       "    Measurement_input resistance  Measurement_membrane time constant  \\\n",
       "0                              0                                   0   \n",
       "1                              0                                   0   \n",
       "2                              0                                   0   \n",
       "5                              1                                   0   \n",
       "7                              0                                   0   \n",
       "8                              1                                   0   \n",
       "9                              0                                   1   \n",
       "11                             0                                   0   \n",
       "13                             0                                   0   \n",
       "18                             0                                   0   \n",
       "\n",
       "    Measurement_resting membrane potential  Measurement_spike amplitude  \\\n",
       "0                                        1                            0   \n",
       "1                                        0                            0   \n",
       "2                                        0                            1   \n",
       "5                                        0                            0   \n",
       "7                                        1                            0   \n",
       "8                                        0                            0   \n",
       "9                                        0                            0   \n",
       "11                                       0                            1   \n",
       "13                                       0                            0   \n",
       "18                                       0                            0   \n",
       "\n",
       "    Measurement_spike half-width  Measurement_spike threshold    Structure  \n",
       "0                              0                            0        other  \n",
       "1                              0                            1        other  \n",
       "2                              0                            0        other  \n",
       "5                              0                            0        other  \n",
       "7                              0                            0        other  \n",
       "8                              0                            0        other  \n",
       "9                              0                            0        other  \n",
       "11                             0                            0        other  \n",
       "13                             0                            1        other  \n",
       "18                             0                            1  Hippocampus  "
      ]
     },
     "execution_count": 7,
     "metadata": {},
     "output_type": "execute_result"
    }
   ],
   "source": [
    "# categorize and filter greater_than_5 b/c model sucks at predicting\n",
    "hippos = [\"CA1\", \"CA2\", \"CA3\", \"Subiculum\", \"Dentate\"]\n",
    "\n",
    "for i, row in greater_than_five.iterrows():\n",
    "    if any(hippo.lower() in row[\"Cell Type\"].lower() for hippo in hippos):\n",
    "#         print(hippo)\n",
    "        greater_than_five.loc[i, \"Structure\"] = \"Hippocampus\"\n",
    "#         row[\"Area\"] = \"Hippocampus\"\n",
    "    else:\n",
    "        greater_than_five.loc[i, \"Structure\"] = \"other\"\n",
    "#         row[\"Area\"] = \"other\"\n",
    "#     print(row[\"Cell Type\"])\n",
    "greater_than_five.head(10)"
   ]
  },
  {
   "cell_type": "markdown",
   "metadata": {},
   "source": [
    "# Begin machine learning"
   ]
  },
  {
   "cell_type": "code",
   "execution_count": 8,
   "metadata": {},
   "outputs": [],
   "source": [
    "hippo_df = greater_than_five.loc[greater_than_five[\"Structure\"] == \"Hippocampus\"]\n",
    "X=hippo_df.drop([\"Cell Type\", \"Structure\"], axis=1)\n",
    "y=hippo_df[\"Cell Type\"]"
   ]
  },
  {
   "cell_type": "code",
   "execution_count": 9,
   "metadata": {},
   "outputs": [
    {
     "data": {
      "text/html": [
       "<div>\n",
       "<style scoped>\n",
       "    .dataframe tbody tr th:only-of-type {\n",
       "        vertical-align: middle;\n",
       "    }\n",
       "\n",
       "    .dataframe tbody tr th {\n",
       "        vertical-align: top;\n",
       "    }\n",
       "\n",
       "    .dataframe thead th {\n",
       "        text-align: right;\n",
       "    }\n",
       "</style>\n",
       "<table border=\"1\" class=\"dataframe\">\n",
       "  <thead>\n",
       "    <tr style=\"text-align: right;\">\n",
       "      <th></th>\n",
       "      <th>Value</th>\n",
       "      <th>Measurement_input resistance</th>\n",
       "      <th>Measurement_membrane time constant</th>\n",
       "      <th>Measurement_resting membrane potential</th>\n",
       "      <th>Measurement_spike amplitude</th>\n",
       "      <th>Measurement_spike half-width</th>\n",
       "      <th>Measurement_spike threshold</th>\n",
       "    </tr>\n",
       "  </thead>\n",
       "  <tbody>\n",
       "    <tr>\n",
       "      <th>18</th>\n",
       "      <td>-51.5</td>\n",
       "      <td>0</td>\n",
       "      <td>0</td>\n",
       "      <td>0</td>\n",
       "      <td>0</td>\n",
       "      <td>0</td>\n",
       "      <td>1</td>\n",
       "    </tr>\n",
       "    <tr>\n",
       "      <th>19</th>\n",
       "      <td>1.6</td>\n",
       "      <td>0</td>\n",
       "      <td>0</td>\n",
       "      <td>0</td>\n",
       "      <td>0</td>\n",
       "      <td>1</td>\n",
       "      <td>0</td>\n",
       "    </tr>\n",
       "    <tr>\n",
       "      <th>21</th>\n",
       "      <td>27.9</td>\n",
       "      <td>0</td>\n",
       "      <td>1</td>\n",
       "      <td>0</td>\n",
       "      <td>0</td>\n",
       "      <td>0</td>\n",
       "      <td>0</td>\n",
       "    </tr>\n",
       "    <tr>\n",
       "      <th>22</th>\n",
       "      <td>-64.8</td>\n",
       "      <td>0</td>\n",
       "      <td>0</td>\n",
       "      <td>1</td>\n",
       "      <td>0</td>\n",
       "      <td>0</td>\n",
       "      <td>0</td>\n",
       "    </tr>\n",
       "    <tr>\n",
       "      <th>23</th>\n",
       "      <td>100.6</td>\n",
       "      <td>1</td>\n",
       "      <td>0</td>\n",
       "      <td>0</td>\n",
       "      <td>0</td>\n",
       "      <td>0</td>\n",
       "      <td>0</td>\n",
       "    </tr>\n",
       "  </tbody>\n",
       "</table>\n",
       "</div>"
      ],
      "text/plain": [
       "    Value  Measurement_input resistance  Measurement_membrane time constant  \\\n",
       "18  -51.5                             0                                   0   \n",
       "19    1.6                             0                                   0   \n",
       "21   27.9                             0                                   1   \n",
       "22  -64.8                             0                                   0   \n",
       "23  100.6                             1                                   0   \n",
       "\n",
       "    Measurement_resting membrane potential  Measurement_spike amplitude  \\\n",
       "18                                       0                            0   \n",
       "19                                       0                            0   \n",
       "21                                       0                            0   \n",
       "22                                       1                            0   \n",
       "23                                       0                            0   \n",
       "\n",
       "    Measurement_spike half-width  Measurement_spike threshold  \n",
       "18                             0                            1  \n",
       "19                             1                            0  \n",
       "21                             0                            0  \n",
       "22                             0                            0  \n",
       "23                             0                            0  "
      ]
     },
     "execution_count": 9,
     "metadata": {},
     "output_type": "execute_result"
    }
   ],
   "source": [
    "X.head()"
   ]
  },
  {
   "cell_type": "code",
   "execution_count": 10,
   "metadata": {},
   "outputs": [
    {
     "data": {
      "text/plain": [
       "(1633, 7)"
      ]
     },
     "execution_count": 10,
     "metadata": {},
     "output_type": "execute_result"
    }
   ],
   "source": [
    "X.shape"
   ]
  },
  {
   "cell_type": "code",
   "execution_count": 11,
   "metadata": {},
   "outputs": [
    {
     "name": "stderr",
     "output_type": "stream",
     "text": [
      "C:\\Users\\Al\\Anaconda3\\envs\\PythonData\\lib\\site-packages\\h5py\\__init__.py:36: FutureWarning: Conversion of the second argument of issubdtype from `float` to `np.floating` is deprecated. In future, it will be treated as `np.float64 == np.dtype(float).type`.\n",
      "  from ._conv import register_converters as _register_converters\n",
      "Using TensorFlow backend.\n"
     ]
    }
   ],
   "source": [
    "from sklearn.model_selection import train_test_split\n",
    "from sklearn.preprocessing import LabelEncoder, StandardScaler\n",
    "from keras.utils import to_categorical\n",
    "\n",
    "X_train, X_test, y_train, y_test = train_test_split(\n",
    "    X, y, random_state=1, stratify=y)\n",
    "X_scaler = StandardScaler().fit(X_train)\n",
    "X_train_scaled = X_scaler.transform(X_train)\n",
    "X_test_scaled = X_scaler.transform(X_test)\n",
    "\n",
    "# Step 1: Label-encode data set\n",
    "label_encoder = LabelEncoder()\n",
    "label_encoder.fit(y_train)\n",
    "encoded_y_train = label_encoder.transform(y_train)\n",
    "encoded_y_test = label_encoder.transform(y_test)\n",
    "\n",
    "# Step 2: Convert encoded labels to one-hot-encoding\n",
    "y_train_categorical = to_categorical(encoded_y_train)\n",
    "y_test_categorical = to_categorical(encoded_y_test)"
   ]
  },
  {
   "cell_type": "code",
   "execution_count": 12,
   "metadata": {},
   "outputs": [
    {
     "data": {
      "text/plain": [
       "array([-0.25976585, -0.56854485, -0.38778337, -0.53831098, -0.38638811,\n",
       "        2.64575131, -0.41251919])"
      ]
     },
     "execution_count": 12,
     "metadata": {},
     "output_type": "execute_result"
    }
   ],
   "source": [
    "# What are these numbers and why are there 7 of them??\n",
    "# May have a bias term\n",
    "X_test_scaled[0]"
   ]
  },
  {
   "cell_type": "code",
   "execution_count": 13,
   "metadata": {},
   "outputs": [
    {
     "data": {
      "text/plain": [
       "(409, 7)"
      ]
     },
     "execution_count": 13,
     "metadata": {},
     "output_type": "execute_result"
    }
   ],
   "source": [
    "np.array(X_test_scaled).shape"
   ]
  },
  {
   "cell_type": "code",
   "execution_count": 14,
   "metadata": {},
   "outputs": [],
   "source": [
    "from keras.models import Sequential\n",
    "from keras.layers import Dense\n",
    "\n",
    "# Create model and add layers\n",
    "model = Sequential()\n",
    "model.add(Dense(units=100, activation='relu', input_dim=7))\n",
    "model.add(Dense(units=100, activation='relu'))\n",
    "model.add(Dense(units=19, activation='softmax'))"
   ]
  },
  {
   "cell_type": "code",
   "execution_count": 15,
   "metadata": {},
   "outputs": [
    {
     "name": "stdout",
     "output_type": "stream",
     "text": [
      "Epoch 1/60\n",
      " - 0s - loss: 2.4402 - acc: 0.3905\n",
      "Epoch 2/60\n",
      " - 0s - loss: 1.9729 - acc: 0.4632\n",
      "Epoch 3/60\n",
      " - 0s - loss: 1.9339 - acc: 0.4673\n",
      "Epoch 4/60\n",
      " - 0s - loss: 1.9217 - acc: 0.4673\n",
      "Epoch 5/60\n",
      " - 0s - loss: 1.9172 - acc: 0.4706\n",
      "Epoch 6/60\n",
      " - 0s - loss: 1.9087 - acc: 0.4706\n",
      "Epoch 7/60\n",
      " - 0s - loss: 1.9056 - acc: 0.4690\n",
      "Epoch 8/60\n",
      " - 0s - loss: 1.9026 - acc: 0.4706\n",
      "Epoch 9/60\n",
      " - 0s - loss: 1.9029 - acc: 0.4722\n",
      "Epoch 10/60\n",
      " - 0s - loss: 1.8993 - acc: 0.4706\n",
      "Epoch 11/60\n",
      " - 0s - loss: 1.8981 - acc: 0.4698\n",
      "Epoch 12/60\n",
      " - 0s - loss: 1.8984 - acc: 0.4690\n",
      "Epoch 13/60\n",
      " - 0s - loss: 1.8931 - acc: 0.4714\n",
      "Epoch 14/60\n",
      " - 0s - loss: 1.8890 - acc: 0.4714\n",
      "Epoch 15/60\n",
      " - 0s - loss: 1.8856 - acc: 0.4706\n",
      "Epoch 16/60\n",
      " - 0s - loss: 1.8849 - acc: 0.4698\n",
      "Epoch 17/60\n",
      " - 0s - loss: 1.8840 - acc: 0.4714\n",
      "Epoch 18/60\n",
      " - 0s - loss: 1.8811 - acc: 0.4690\n",
      "Epoch 19/60\n",
      " - 0s - loss: 1.8847 - acc: 0.4673\n",
      "Epoch 20/60\n",
      " - 0s - loss: 1.8858 - acc: 0.4714\n",
      "Epoch 21/60\n",
      " - 0s - loss: 1.8847 - acc: 0.4706\n",
      "Epoch 22/60\n",
      " - 0s - loss: 1.8785 - acc: 0.4690\n",
      "Epoch 23/60\n",
      " - 0s - loss: 1.8793 - acc: 0.4690\n",
      "Epoch 24/60\n",
      " - 0s - loss: 1.8773 - acc: 0.4657\n",
      "Epoch 25/60\n",
      " - 0s - loss: 1.8756 - acc: 0.4698\n",
      "Epoch 26/60\n",
      " - 0s - loss: 1.8751 - acc: 0.4690\n",
      "Epoch 27/60\n",
      " - 0s - loss: 1.8789 - acc: 0.4690\n",
      "Epoch 28/60\n",
      " - 0s - loss: 1.8685 - acc: 0.4690\n",
      "Epoch 29/60\n",
      " - 0s - loss: 1.8682 - acc: 0.4722\n",
      "Epoch 30/60\n",
      " - 0s - loss: 1.8691 - acc: 0.4673\n",
      "Epoch 31/60\n",
      " - 0s - loss: 1.8692 - acc: 0.4706\n",
      "Epoch 32/60\n",
      " - 0s - loss: 1.8687 - acc: 0.4706\n",
      "Epoch 33/60\n",
      " - 0s - loss: 1.8656 - acc: 0.4681\n",
      "Epoch 34/60\n",
      " - 0s - loss: 1.8656 - acc: 0.4706\n",
      "Epoch 35/60\n",
      " - 0s - loss: 1.8638 - acc: 0.4673\n",
      "Epoch 36/60\n",
      " - 0s - loss: 1.8602 - acc: 0.4698\n",
      "Epoch 37/60\n",
      " - 0s - loss: 1.8638 - acc: 0.4665\n",
      "Epoch 38/60\n",
      " - 0s - loss: 1.8602 - acc: 0.4739\n",
      "Epoch 39/60\n",
      " - 0s - loss: 1.8574 - acc: 0.4698\n",
      "Epoch 40/60\n",
      " - 0s - loss: 1.8538 - acc: 0.4673\n",
      "Epoch 41/60\n",
      " - 0s - loss: 1.8563 - acc: 0.4706\n",
      "Epoch 42/60\n",
      " - 0s - loss: 1.8611 - acc: 0.4698\n",
      "Epoch 43/60\n",
      " - 0s - loss: 1.8549 - acc: 0.4698\n",
      "Epoch 44/60\n",
      " - 0s - loss: 1.8511 - acc: 0.4730\n",
      "Epoch 45/60\n",
      " - 0s - loss: 1.8493 - acc: 0.4714\n",
      "Epoch 46/60\n",
      " - 0s - loss: 1.8505 - acc: 0.4698\n",
      "Epoch 47/60\n",
      " - 0s - loss: 1.8503 - acc: 0.4714\n",
      "Epoch 48/60\n",
      " - 0s - loss: 1.8477 - acc: 0.4681\n",
      "Epoch 49/60\n",
      " - 0s - loss: 1.8486 - acc: 0.4698\n",
      "Epoch 50/60\n",
      " - 0s - loss: 1.8451 - acc: 0.4681\n",
      "Epoch 51/60\n",
      " - 0s - loss: 1.8455 - acc: 0.4673\n",
      "Epoch 52/60\n",
      " - 0s - loss: 1.8404 - acc: 0.4730\n",
      "Epoch 53/60\n",
      " - 0s - loss: 1.8411 - acc: 0.4665\n",
      "Epoch 54/60\n",
      " - 0s - loss: 1.8425 - acc: 0.4706\n",
      "Epoch 55/60\n",
      " - 0s - loss: 1.8403 - acc: 0.4706\n",
      "Epoch 56/60\n",
      " - 0s - loss: 1.8384 - acc: 0.4690\n",
      "Epoch 57/60\n",
      " - 0s - loss: 1.8377 - acc: 0.4698\n",
      "Epoch 58/60\n",
      " - 0s - loss: 1.8359 - acc: 0.4690\n",
      "Epoch 59/60\n",
      " - 0s - loss: 1.8382 - acc: 0.4714\n",
      "Epoch 60/60\n",
      " - 0s - loss: 1.8375 - acc: 0.4690\n"
     ]
    },
    {
     "data": {
      "text/plain": [
       "<keras.callbacks.History at 0x23c8db6e780>"
      ]
     },
     "execution_count": 15,
     "metadata": {},
     "output_type": "execute_result"
    }
   ],
   "source": [
    "model.compile(optimizer='adam',\n",
    "              loss='categorical_crossentropy',\n",
    "              metrics=['accuracy'])\n",
    "model.fit(\n",
    "    X_train_scaled,\n",
    "    y_train_categorical,\n",
    "    epochs=60,\n",
    "    shuffle=True,\n",
    "    verbose=2\n",
    ")"
   ]
  },
  {
   "cell_type": "code",
   "execution_count": 16,
   "metadata": {},
   "outputs": [
    {
     "name": "stdout",
     "output_type": "stream",
     "text": [
      "Normal Neural Network - Loss: 1.9660031323327996, Accuracy: 0.4694376526660033\n"
     ]
    }
   ],
   "source": [
    "model_loss, model_accuracy = model.evaluate(\n",
    "    X_test_scaled, y_test_categorical, verbose=2)\n",
    "print(\n",
    "    f\"Normal Neural Network - Loss: {model_loss}, Accuracy: {model_accuracy}\")"
   ]
  },
  {
   "cell_type": "code",
   "execution_count": null,
   "metadata": {},
   "outputs": [],
   "source": [
    "# Save the model\n",
    "model.save(\"machine_learning4.h5\")"
   ]
  },
  {
   "cell_type": "code",
   "execution_count": 17,
   "metadata": {},
   "outputs": [
    {
     "name": "stdout",
     "output_type": "stream",
     "text": [
      "_________________________________________________________________\n",
      "Layer (type)                 Output Shape              Param #   \n",
      "=================================================================\n",
      "dense_1 (Dense)              (None, 100)               800       \n",
      "_________________________________________________________________\n",
      "dense_2 (Dense)              (None, 100)               10100     \n",
      "_________________________________________________________________\n",
      "dense_3 (Dense)              (None, 19)                1919      \n",
      "=================================================================\n",
      "Total params: 12,819\n",
      "Trainable params: 12,819\n",
      "Non-trainable params: 0\n",
      "_________________________________________________________________\n",
      "None\n"
     ]
    }
   ],
   "source": [
    "print(model.summary())"
   ]
  },
  {
   "cell_type": "markdown",
   "metadata": {},
   "source": [
    "# Take in user input into saved model"
   ]
  },
  {
   "cell_type": "code",
   "execution_count": null,
   "metadata": {},
   "outputs": [],
   "source": [
    "input_resistance = input(\"input_resistance value (between {} and {}): \".format(min_ir, max_ir))\n",
    "membrane_time_constant = input(\"membrane_time_constant value (between {} and {}): \".format(min_mtc, max_mtc))\n",
    "resting_membrane_potential = input(\"resting_membrane_potential value (between {} and {}): \".format(min_rmp, max_rmp))\n",
    "spike_amplitude = input(\"spike_amplitude value (between {} and {}): \".format(min_sa, max_sa))\n",
    "spike_halfwidth = input(\"spike_half-width value (between {} and {}): \".format(min_shw, max_shw))\n",
    "spike_threshold = input(\"spike_threshold value (between {} and {}): \".format(min_st, max_st))\n",
    "\n",
    "input_resistance\n",
    "membrane_time_constant\n",
    "resting_membrane_potential\n",
    "spike_amplitude\n",
    "spike_halfwidth\n",
    "spike_threshold"
   ]
  },
  {
   "cell_type": "code",
   "execution_count": null,
   "metadata": {},
   "outputs": [],
   "source": [
    "# Place user data into numpy array in same order as dataframe's columns\n",
    "user_data = np.array([input_resistance, membrane_time_constant, resting_membrane_potential, spike_amplitude, spike_halfwidth, spike_threshold]).reshape(6,)\n",
    "user_data"
   ]
  },
  {
   "cell_type": "code",
   "execution_count": 43,
   "metadata": {},
   "outputs": [
    {
     "data": {
      "text/plain": [
       "[200, 50, 700, 1000, 100, 50]"
      ]
     },
     "execution_count": 43,
     "metadata": {},
     "output_type": "execute_result"
    }
   ],
   "source": [
    "# # model takes in x_test_scaled, y_test_categorical data types\n",
    "# data = []\n",
    "# data.extend([input_resistance, resting_membrane_potential, spike_threshold, spike_halfwidth, spike_amplitude, \\\n",
    "#             membrane_time_constant])\n",
    "# data = list(map(int, data))\n",
    "# # np.array(data).shape\n",
    "# data"
   ]
  },
  {
   "cell_type": "markdown",
   "metadata": {},
   "source": [
    "# Format input data into a dummy variable df to match training data format"
   ]
  },
  {
   "cell_type": "code",
   "execution_count": 35,
   "metadata": {},
   "outputs": [
    {
     "data": {
      "text/html": [
       "<div>\n",
       "<style scoped>\n",
       "    .dataframe tbody tr th:only-of-type {\n",
       "        vertical-align: middle;\n",
       "    }\n",
       "\n",
       "    .dataframe tbody tr th {\n",
       "        vertical-align: top;\n",
       "    }\n",
       "\n",
       "    .dataframe thead th {\n",
       "        text-align: right;\n",
       "    }\n",
       "</style>\n",
       "<table border=\"1\" class=\"dataframe\">\n",
       "  <thead>\n",
       "    <tr style=\"text-align: right;\">\n",
       "      <th></th>\n",
       "      <th>Value</th>\n",
       "      <th>Measurement</th>\n",
       "    </tr>\n",
       "  </thead>\n",
       "  <tbody>\n",
       "    <tr>\n",
       "      <th>0</th>\n",
       "      <td>200</td>\n",
       "      <td>input_resistance</td>\n",
       "    </tr>\n",
       "    <tr>\n",
       "      <th>1</th>\n",
       "      <td>50</td>\n",
       "      <td>resting_membrane_potential</td>\n",
       "    </tr>\n",
       "    <tr>\n",
       "      <th>2</th>\n",
       "      <td>700</td>\n",
       "      <td>spike_threshold</td>\n",
       "    </tr>\n",
       "    <tr>\n",
       "      <th>3</th>\n",
       "      <td>1000</td>\n",
       "      <td>spike_halfwidth</td>\n",
       "    </tr>\n",
       "    <tr>\n",
       "      <th>4</th>\n",
       "      <td>100</td>\n",
       "      <td>spike_amplitude</td>\n",
       "    </tr>\n",
       "    <tr>\n",
       "      <th>5</th>\n",
       "      <td>50</td>\n",
       "      <td>membrane_time_constant</td>\n",
       "    </tr>\n",
       "  </tbody>\n",
       "</table>\n",
       "</div>"
      ],
      "text/plain": [
       "  Value                 Measurement\n",
       "0   200            input_resistance\n",
       "1    50  resting_membrane_potential\n",
       "2   700             spike_threshold\n",
       "3  1000             spike_halfwidth\n",
       "4   100             spike_amplitude\n",
       "5    50      membrane_time_constant"
      ]
     },
     "execution_count": 35,
     "metadata": {},
     "output_type": "execute_result"
    }
   ],
   "source": [
    "measurement_list = [\"input_resistance\", \"resting_membrane_potential\", \"spike_threshold\", \"spike_halfwidth\", \"spike_amplitude\", \\\n",
    "            \"membrane_time_constant\"]\n",
    "formatted_input = list(zip(data, measurement_list))\n",
    "formatted_input_df = pd.DataFrame(formatted_input, columns=[\"Value\", \"Measurement\"]) \n",
    "formatted_input_df"
   ]
  },
  {
   "cell_type": "code",
   "execution_count": 36,
   "metadata": {
    "scrolled": true
   },
   "outputs": [
    {
     "data": {
      "text/html": [
       "<div>\n",
       "<style scoped>\n",
       "    .dataframe tbody tr th:only-of-type {\n",
       "        vertical-align: middle;\n",
       "    }\n",
       "\n",
       "    .dataframe tbody tr th {\n",
       "        vertical-align: top;\n",
       "    }\n",
       "\n",
       "    .dataframe thead th {\n",
       "        text-align: right;\n",
       "    }\n",
       "</style>\n",
       "<table border=\"1\" class=\"dataframe\">\n",
       "  <thead>\n",
       "    <tr style=\"text-align: right;\">\n",
       "      <th></th>\n",
       "      <th>Value</th>\n",
       "      <th>Measurement_input_resistance</th>\n",
       "      <th>Measurement_membrane_time_constant</th>\n",
       "      <th>Measurement_resting_membrane_potential</th>\n",
       "      <th>Measurement_spike_amplitude</th>\n",
       "      <th>Measurement_spike_halfwidth</th>\n",
       "      <th>Measurement_spike_threshold</th>\n",
       "    </tr>\n",
       "  </thead>\n",
       "  <tbody>\n",
       "    <tr>\n",
       "      <th>0</th>\n",
       "      <td>200</td>\n",
       "      <td>1</td>\n",
       "      <td>0</td>\n",
       "      <td>0</td>\n",
       "      <td>0</td>\n",
       "      <td>0</td>\n",
       "      <td>0</td>\n",
       "    </tr>\n",
       "    <tr>\n",
       "      <th>1</th>\n",
       "      <td>50</td>\n",
       "      <td>0</td>\n",
       "      <td>0</td>\n",
       "      <td>1</td>\n",
       "      <td>0</td>\n",
       "      <td>0</td>\n",
       "      <td>0</td>\n",
       "    </tr>\n",
       "    <tr>\n",
       "      <th>2</th>\n",
       "      <td>700</td>\n",
       "      <td>0</td>\n",
       "      <td>0</td>\n",
       "      <td>0</td>\n",
       "      <td>0</td>\n",
       "      <td>0</td>\n",
       "      <td>1</td>\n",
       "    </tr>\n",
       "    <tr>\n",
       "      <th>3</th>\n",
       "      <td>1000</td>\n",
       "      <td>0</td>\n",
       "      <td>0</td>\n",
       "      <td>0</td>\n",
       "      <td>0</td>\n",
       "      <td>1</td>\n",
       "      <td>0</td>\n",
       "    </tr>\n",
       "    <tr>\n",
       "      <th>4</th>\n",
       "      <td>100</td>\n",
       "      <td>0</td>\n",
       "      <td>0</td>\n",
       "      <td>0</td>\n",
       "      <td>1</td>\n",
       "      <td>0</td>\n",
       "      <td>0</td>\n",
       "    </tr>\n",
       "    <tr>\n",
       "      <th>5</th>\n",
       "      <td>50</td>\n",
       "      <td>0</td>\n",
       "      <td>1</td>\n",
       "      <td>0</td>\n",
       "      <td>0</td>\n",
       "      <td>0</td>\n",
       "      <td>0</td>\n",
       "    </tr>\n",
       "  </tbody>\n",
       "</table>\n",
       "</div>"
      ],
      "text/plain": [
       "  Value  Measurement_input_resistance  Measurement_membrane_time_constant  \\\n",
       "0   200                             1                                   0   \n",
       "1    50                             0                                   0   \n",
       "2   700                             0                                   0   \n",
       "3  1000                             0                                   0   \n",
       "4   100                             0                                   0   \n",
       "5    50                             0                                   1   \n",
       "\n",
       "   Measurement_resting_membrane_potential  Measurement_spike_amplitude  \\\n",
       "0                                       0                            0   \n",
       "1                                       1                            0   \n",
       "2                                       0                            0   \n",
       "3                                       0                            0   \n",
       "4                                       0                            1   \n",
       "5                                       0                            0   \n",
       "\n",
       "   Measurement_spike_halfwidth  Measurement_spike_threshold  \n",
       "0                            0                            0  \n",
       "1                            0                            0  \n",
       "2                            0                            1  \n",
       "3                            1                            0  \n",
       "4                            0                            0  \n",
       "5                            0                            0  "
      ]
     },
     "execution_count": 36,
     "metadata": {},
     "output_type": "execute_result"
    }
   ],
   "source": [
    "categorized_input_df = pd.get_dummies(formatted_input_df, columns=[\"Measurement\"])\n",
    "categorized_input_df"
   ]
  },
  {
   "cell_type": "code",
   "execution_count": 38,
   "metadata": {},
   "outputs": [
    {
     "ename": "NotFittedError",
     "evalue": "This StandardScaler instance is not fitted yet. Call 'fit' with appropriate arguments before using this method.",
     "output_type": "error",
     "traceback": [
      "\u001b[1;31m---------------------------------------------------------------------------\u001b[0m",
      "\u001b[1;31mNotFittedError\u001b[0m                            Traceback (most recent call last)",
      "\u001b[1;32m<ipython-input-38-40759a4602a4>\u001b[0m in \u001b[0;36m<module>\u001b[1;34m()\u001b[0m\n\u001b[0;32m      3\u001b[0m \u001b[1;31m# input_scaler = StandardScaler().fit(categorized_input_df)\u001b[0m\u001b[1;33m\u001b[0m\u001b[1;33m\u001b[0m\u001b[0m\n\u001b[0;32m      4\u001b[0m \u001b[1;33m\u001b[0m\u001b[0m\n\u001b[1;32m----> 5\u001b[1;33m \u001b[0minput_scaled\u001b[0m \u001b[1;33m=\u001b[0m \u001b[0mStandardScaler\u001b[0m\u001b[1;33m(\u001b[0m\u001b[1;33m)\u001b[0m\u001b[1;33m.\u001b[0m\u001b[0mtransform\u001b[0m\u001b[1;33m(\u001b[0m\u001b[0mcategorized_input_df\u001b[0m\u001b[1;33m)\u001b[0m\u001b[1;33m\u001b[0m\u001b[0m\n\u001b[0m\u001b[0;32m      6\u001b[0m \u001b[0minput_scaled\u001b[0m\u001b[1;33m\u001b[0m\u001b[0m\n",
      "\u001b[1;32m~\\Anaconda3\\envs\\PythonData\\lib\\site-packages\\sklearn\\preprocessing\\data.py\u001b[0m in \u001b[0;36mtransform\u001b[1;34m(self, X, y, copy)\u001b[0m\n\u001b[0;32m    675\u001b[0m                           DeprecationWarning)\n\u001b[0;32m    676\u001b[0m \u001b[1;33m\u001b[0m\u001b[0m\n\u001b[1;32m--> 677\u001b[1;33m         \u001b[0mcheck_is_fitted\u001b[0m\u001b[1;33m(\u001b[0m\u001b[0mself\u001b[0m\u001b[1;33m,\u001b[0m \u001b[1;34m'scale_'\u001b[0m\u001b[1;33m)\u001b[0m\u001b[1;33m\u001b[0m\u001b[0m\n\u001b[0m\u001b[0;32m    678\u001b[0m \u001b[1;33m\u001b[0m\u001b[0m\n\u001b[0;32m    679\u001b[0m         \u001b[0mcopy\u001b[0m \u001b[1;33m=\u001b[0m \u001b[0mcopy\u001b[0m \u001b[1;32mif\u001b[0m \u001b[0mcopy\u001b[0m \u001b[1;32mis\u001b[0m \u001b[1;32mnot\u001b[0m \u001b[1;32mNone\u001b[0m \u001b[1;32melse\u001b[0m \u001b[0mself\u001b[0m\u001b[1;33m.\u001b[0m\u001b[0mcopy\u001b[0m\u001b[1;33m\u001b[0m\u001b[0m\n",
      "\u001b[1;32m~\\Anaconda3\\envs\\PythonData\\lib\\site-packages\\sklearn\\utils\\validation.py\u001b[0m in \u001b[0;36mcheck_is_fitted\u001b[1;34m(estimator, attributes, msg, all_or_any)\u001b[0m\n\u001b[0;32m    766\u001b[0m \u001b[1;33m\u001b[0m\u001b[0m\n\u001b[0;32m    767\u001b[0m     \u001b[1;32mif\u001b[0m \u001b[1;32mnot\u001b[0m \u001b[0mall_or_any\u001b[0m\u001b[1;33m(\u001b[0m\u001b[1;33m[\u001b[0m\u001b[0mhasattr\u001b[0m\u001b[1;33m(\u001b[0m\u001b[0mestimator\u001b[0m\u001b[1;33m,\u001b[0m \u001b[0mattr\u001b[0m\u001b[1;33m)\u001b[0m \u001b[1;32mfor\u001b[0m \u001b[0mattr\u001b[0m \u001b[1;32min\u001b[0m \u001b[0mattributes\u001b[0m\u001b[1;33m]\u001b[0m\u001b[1;33m)\u001b[0m\u001b[1;33m:\u001b[0m\u001b[1;33m\u001b[0m\u001b[0m\n\u001b[1;32m--> 768\u001b[1;33m         \u001b[1;32mraise\u001b[0m \u001b[0mNotFittedError\u001b[0m\u001b[1;33m(\u001b[0m\u001b[0mmsg\u001b[0m \u001b[1;33m%\u001b[0m \u001b[1;33m{\u001b[0m\u001b[1;34m'name'\u001b[0m\u001b[1;33m:\u001b[0m \u001b[0mtype\u001b[0m\u001b[1;33m(\u001b[0m\u001b[0mestimator\u001b[0m\u001b[1;33m)\u001b[0m\u001b[1;33m.\u001b[0m\u001b[0m__name__\u001b[0m\u001b[1;33m}\u001b[0m\u001b[1;33m)\u001b[0m\u001b[1;33m\u001b[0m\u001b[0m\n\u001b[0m\u001b[0;32m    769\u001b[0m \u001b[1;33m\u001b[0m\u001b[0m\n\u001b[0;32m    770\u001b[0m \u001b[1;33m\u001b[0m\u001b[0m\n",
      "\u001b[1;31mNotFittedError\u001b[0m: This StandardScaler instance is not fitted yet. Call 'fit' with appropriate arguments before using this method."
     ]
    }
   ],
   "source": [
    "# Mimicking the process of creating X_test_scaled from above\n",
    "# Don't want to fit user data\n",
    "# input_scaler = StandardScaler().fit(categorized_input_df)\n",
    "\n",
    "input_scaled = StandardScaler().transform(categorized_input_df)\n",
    "input_scaled"
   ]
  },
  {
   "cell_type": "code",
   "execution_count": 33,
   "metadata": {},
   "outputs": [
    {
     "data": {
      "text/plain": [
       "(6, 7)"
      ]
     },
     "execution_count": 33,
     "metadata": {},
     "output_type": "execute_result"
    }
   ],
   "source": [
    "np.array(input_scaled).shape"
   ]
  },
  {
   "cell_type": "code",
   "execution_count": 60,
   "metadata": {},
   "outputs": [
    {
     "name": "stdout",
     "output_type": "stream",
     "text": [
      "(6,)\n",
      "<keras.engine.sequential.Sequential object at 0x000001FC892664A8>\n"
     ]
    }
   ],
   "source": [
    "data= np.array(data).reshape(6,)\n",
    "print(data.shape)\n",
    "print(neuro_model)"
   ]
  },
  {
   "cell_type": "code",
   "execution_count": 64,
   "metadata": {},
   "outputs": [
    {
     "name": "stdout",
     "output_type": "stream",
     "text": [
      "_________________________________________________________________\n",
      "Layer (type)                 Output Shape              Param #   \n",
      "=================================================================\n",
      "dense_4 (Dense)              (None, 100)               800       \n",
      "_________________________________________________________________\n",
      "dense_5 (Dense)              (None, 100)               10100     \n",
      "_________________________________________________________________\n",
      "dense_6 (Dense)              (None, 19)                1919      \n",
      "=================================================================\n",
      "Total params: 12,819\n",
      "Trainable params: 12,819\n",
      "Non-trainable params: 0\n",
      "_________________________________________________________________\n"
     ]
    }
   ],
   "source": [
    "from keras.models import load_model\n",
    "neuro_model = load_model(\"machine_learning4.h5\")\n",
    "neuro_model.summary()\n"
   ]
  },
  {
   "cell_type": "code",
   "execution_count": 77,
   "metadata": {
    "scrolled": true
   },
   "outputs": [
    {
     "name": "stdout",
     "output_type": "stream",
     "text": [
      "[ 200   50  700 1000  100   50]\n"
     ]
    },
    {
     "data": {
      "text/plain": [
       "array([[0., 1., 0., 0., 0., 0., 0., 0., 0., 0., 0., 0., 0., 0., 0., 0.,\n",
       "        0., 0., 0.]], dtype=float32)"
      ]
     },
     "execution_count": 77,
     "metadata": {},
     "output_type": "execute_result"
    }
   ],
   "source": [
    "print(data)\n",
    "\n",
    "# Change the model being used\n",
    "# Maybe transpose data later\n",
    "neuro_model.predict(np.array([[200,1,0,0,0,0,0]]))"
   ]
  },
  {
   "cell_type": "code",
   "execution_count": 71,
   "metadata": {},
   "outputs": [
    {
     "data": {
      "text/plain": [
       "array([[ 200,   50,  700, 1000,  100,   50]])"
      ]
     },
     "execution_count": 71,
     "metadata": {},
     "output_type": "execute_result"
    }
   ],
   "source": [
    "np.array([data])"
   ]
  },
  {
   "cell_type": "code",
   "execution_count": null,
   "metadata": {},
   "outputs": [],
   "source": []
  },
  {
   "cell_type": "code",
   "execution_count": null,
   "metadata": {},
   "outputs": [],
   "source": []
  }
 ],
 "metadata": {
  "kernelspec": {
   "display_name": "Python 3",
   "language": "python",
   "name": "python3"
  },
  "language_info": {
   "codemirror_mode": {
    "name": "ipython",
    "version": 3
   },
   "file_extension": ".py",
   "mimetype": "text/x-python",
   "name": "python",
   "nbconvert_exporter": "python",
   "pygments_lexer": "ipython3",
   "version": "3.6.4"
  }
 },
 "nbformat": 4,
 "nbformat_minor": 2
}
